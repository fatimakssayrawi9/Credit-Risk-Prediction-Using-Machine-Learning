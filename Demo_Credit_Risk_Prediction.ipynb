{
  "nbformat": 4,
  "nbformat_minor": 0,
  "metadata": {
    "colab": {
      "provenance": []
    },
    "kernelspec": {
      "name": "python3",
      "display_name": "Python 3"
    },
    "language_info": {
      "name": "python"
    }
  },
  "cells": [
    {
      "cell_type": "markdown",
      "source": [
        "## 📂 Project Setup Instructions\n",
        "\n",
        "To run this notebook correctly, please make sure to **upload the following files** before execution:\n",
        "\n",
        "1. **Training Data.csv**  \n",
        "   → This is the original training dataset used for building the model.  \n",
        "   📌 It's required to **generate city/state mappings** and perform preprocessing steps such as feature analysis or re-encoding.  \n",
        "   📁 This file is located in the project repository.\n",
        "\n",
        "2. **random_forest_model.pkl**  \n",
        "   → This file contains the trained Random Forest model.  \n",
        "   🔗 Download it from Google Drive: [Click Here](https://drive.google.com/file/d/1RBZA9K3C8uHZ269RJe1aciK2PU8bs29c/view?usp=drive_link)\n",
        "\n",
        "3. **scaler.pkl**  \n",
        "   → This is the fitted `StandardScaler` used during training to standardize numeric features.  \n",
        "   📁 This file is located in the project repository.\n",
        "\n",
        "4. **model_columns.pkl**  \n",
        "   → This contains the list of encoded feature columns used by the model for prediction.  \n",
        "   📁 This file is also located in the project repository.\n",
        "\n",
        "> ⚠️ Be sure to upload all four files **before running any prediction or deployment steps**.\n",
        "> The training dataset is especially important for generating the **city and state mappings** used to interpret user input.\n"
      ],
      "metadata": {
        "id": "xcgyzzNhW5Zn"
      }
    },
    {
      "cell_type": "markdown",
      "source": [
        "# Model Deployment"
      ],
      "metadata": {
        "id": "gFHs7hpNVstz"
      }
    },
    {
      "cell_type": "code",
      "execution_count": 21,
      "metadata": {
        "id": "Mm4Vi9kMVTxc"
      },
      "outputs": [],
      "source": [
        "import joblib\n",
        "import pandas as pd\n",
        "import joblib\n",
        "\n",
        "# 🔄 Load the best-performing model (Random Forest)\n",
        "rf_model = joblib.load(\"random_forest_model.pkl\")\n",
        "\n",
        "# 🔄 Load the fitted StandardScaler\n",
        "scaler = joblib.load(\"scaler.pkl\")\n",
        "\n",
        "# 🔄 Load the encoded feature columns used during training\n",
        "model_columns = joblib.load(\"model_columns.pkl\")\n"
      ]
    },
    {
      "cell_type": "code",
      "source": [
        "# Load the training dataset\n",
        "train_df = pd.read_csv(\"Training Data.csv\")\n",
        "\n",
        "# Step 1: Get unique city/state values\n",
        "unique_cities = sorted(train_df['city'].unique())\n",
        "unique_states = sorted(train_df['state'].unique())\n",
        "\n",
        "# Step 2: Create mappings (original -> encoded name)\n",
        "city_mapping = {city.lower(): f\"city_{i}\" for i, city in enumerate(unique_cities)}\n",
        "state_mapping = {state.lower(): f\"state_{i}\" for i, state in enumerate(unique_states)}\n",
        "\n",
        "# Step 3: Save the mappings to use later in deployment\n",
        "joblib.dump(city_mapping, \"city_mapping.pkl\")\n",
        "joblib.dump(state_mapping, \"state_mapping.pkl\")\n"
      ],
      "metadata": {
        "colab": {
          "base_uri": "https://localhost:8080/"
        },
        "id": "SE8WnK3Xhs-5",
        "outputId": "940c68f9-510b-4d7a-f6db-0c72d43ab647"
      },
      "execution_count": 22,
      "outputs": [
        {
          "output_type": "execute_result",
          "data": {
            "text/plain": [
              "['state_mapping.pkl']"
            ]
          },
          "metadata": {},
          "execution_count": 22
        }
      ]
    },
    {
      "cell_type": "markdown",
      "source": [
        "## 🧠 predict_credit_risk() – Deployment-Ready Function"
      ],
      "metadata": {
        "id": "cvvYGDsscLZ9"
      }
    },
    {
      "cell_type": "code",
      "source": [
        "def predict_credit_risk(input_data: dict) -> int:\n",
        "    \"\"\"\n",
        "    Predict credit risk using the saved Random Forest model.\n",
        "\n",
        "    Args:\n",
        "        input_data (dict): Borrower data with original city and state names.\n",
        "\n",
        "    Returns:\n",
        "        int: 0 for low risk, 1 for high risk\n",
        "    \"\"\"\n",
        "\n",
        "    import pandas as pd\n",
        "    import joblib\n",
        "\n",
        "    # 🔁 Load model components\n",
        "    model = joblib.load(\"random_forest_model.pkl\")\n",
        "    scaler = joblib.load(\"scaler.pkl\")\n",
        "    model_columns = joblib.load(\"model_columns.pkl\")\n",
        "\n",
        "    # 🔁 Load city and state mapping\n",
        "    city_mapping = joblib.load(\"city_mapping.pkl\")\n",
        "    state_mapping = joblib.load(\"state_mapping.pkl\")\n",
        "\n",
        "    # 🔁 Convert user-inputted city/state to encoded values\n",
        "    input_data['city'] = city_mapping.get(input_data['city'].lower(), \"unknown_city\")\n",
        "    input_data['state'] = state_mapping.get(input_data['state'].lower(), \"unknown_state\")\n",
        "\n",
        "    # 📦 Convert to DataFrame\n",
        "    df = pd.DataFrame([input_data])\n",
        "\n",
        "    # 🔠 Encode and align\n",
        "    df_encoded = pd.get_dummies(df)\n",
        "    df_encoded = df_encoded.reindex(columns=model_columns, fill_value=0)\n",
        "\n",
        "    # 📏 Scale numeric features\n",
        "    df_scaled = scaler.transform(df_encoded)\n",
        "\n",
        "    # 🔍 Make prediction\n",
        "    prediction = model.predict(df_scaled)\n",
        "\n",
        "    return int(prediction[0])\n"
      ],
      "metadata": {
        "id": "fSEE37hPhmwO"
      },
      "execution_count": 23,
      "outputs": []
    },
    {
      "cell_type": "markdown",
      "source": [
        "### 🧪 Example: Predict Credit Risk for a New Borrower"
      ],
      "metadata": {
        "id": "9vdgCcUGcajI"
      }
    },
    {
      "cell_type": "code",
      "source": [
        "# 📋 Sample input: borrower's profile\n",
        "user_input = {\n",
        "    'income': 50000,\n",
        "    'age': 30,\n",
        "    'experience': 5,\n",
        "    'married': 'yes',\n",
        "    'house_ownership': 'rented',\n",
        "    'car_ownership': 'no',\n",
        "    'profession': 'engineer',\n",
        "    'city': 'Surat',\n",
        "    'state': 'Gujarat',\n",
        "    'current_job_years': 2,\n",
        "    'current_house_years': 4\n",
        "}\n",
        "\n",
        "\n",
        "# 🔍 Get the prediction\n",
        "result = predict_credit_risk(user_input)\n",
        "\n",
        "# 🧾 Show result\n",
        "print(\"🔍 Prediction:\", \"❌ High Risk\" if result == 1 else \"✅ Low Risk\")\n"
      ],
      "metadata": {
        "colab": {
          "base_uri": "https://localhost:8080/"
        },
        "id": "e66aY77jhoUK",
        "outputId": "b9565b7d-04a9-459f-f44f-7d8d69fe641f"
      },
      "execution_count": 24,
      "outputs": [
        {
          "output_type": "stream",
          "name": "stdout",
          "text": [
            "🔍 Prediction: ❌ High Risk\n"
          ]
        }
      ]
    },
    {
      "cell_type": "markdown",
      "source": [
        "## 🧾 get_user_input() – Interactive CLI Input for Deployment Testing"
      ],
      "metadata": {
        "id": "O4kKSqwdcjQB"
      }
    },
    {
      "cell_type": "code",
      "source": [
        "def get_user_input():\n",
        "    \"\"\"\n",
        "    Collects borrower information from the user via command-line input,\n",
        "    and maps city/state to encoded format using saved mappings.\n",
        "\n",
        "    Returns:\n",
        "        dict: A dictionary with borrower features for risk prediction.\n",
        "    \"\"\"\n",
        "    print(\"🔍 Please enter borrower information for credit risk prediction:\\n\")\n",
        "\n",
        "    # Load city/state mappings\n",
        "    city_mapping = joblib.load(\"city_mapping.pkl\")\n",
        "    state_mapping = joblib.load(\"state_mapping.pkl\")\n",
        "\n",
        "    # Ask for raw user input\n",
        "    state_input = input(\"State (e.g., Gujarat): \").strip().lower()\n",
        "    city_input = input(\"City (e.g., Surat): \").strip().lower()\n",
        "\n",
        "\n",
        "    # Map to encoded values\n",
        "    encoded_city = city_mapping.get(city_input, \"unknown_city\")\n",
        "    encoded_state = state_mapping.get(state_input, \"unknown_state\")\n",
        "\n",
        "\n",
        "    input_data = {\n",
        "        'income': float(input(\"Income (e.g., 50000): \")),\n",
        "        'age': int(input(\"Age (e.g., 30): \")),\n",
        "        'experience': int(input(\"Years of Work Experience: \")),\n",
        "        'married': input(\"Married (yes or no): \").strip().lower(),\n",
        "        'house_ownership': input(\"House Ownership (owned, rented, norent_noown): \").strip().lower(),\n",
        "        'car_ownership': input(\"Car Ownership (yes or no): \").strip().lower(),\n",
        "        'profession': input(\"Profession (e.g., software engineer): \").strip().lower(),\n",
        "        'city': encoded_city,\n",
        "        'state': encoded_state,\n",
        "        'current_job_years': int(input(\"Years at Current Job: \")),\n",
        "        'current_house_years': int(input(\"Years in Current House: \"))\n",
        "    }\n",
        "\n",
        "    return input_data\n"
      ],
      "metadata": {
        "id": "YFc6e-pLkQWd"
      },
      "execution_count": 25,
      "outputs": []
    },
    {
      "cell_type": "markdown",
      "source": [
        "### 🧪 Run the Full Prediction Flow with Live User Input"
      ],
      "metadata": {
        "id": "Z8n4vp2IdJ6J"
      }
    },
    {
      "cell_type": "code",
      "source": [
        "# 🔽 Get user input from the terminal\n",
        "user_input = get_user_input()\n",
        "\n",
        "# 🔮 Predict\n",
        "result = predict_credit_risk(user_input)\n",
        "\n",
        "# ✅ Display prediction\n",
        "print(\"\\n📊 Prediction:\", \"❌ High Risk\" if result == 1 else \"✅ Low Risk\")\n"
      ],
      "metadata": {
        "colab": {
          "base_uri": "https://localhost:8080/"
        },
        "id": "m2bewSqbkVNs",
        "outputId": "3c575e8a-3d60-4439-8d85-07ceca58551f"
      },
      "execution_count": 26,
      "outputs": [
        {
          "output_type": "stream",
          "name": "stdout",
          "text": [
            "🔍 Please enter borrower information for credit risk prediction:\n",
            "\n",
            "State (e.g., Gujarat): Gujarat\n",
            "City (e.g., Surat): Surat\n",
            "Income (e.g., 50000): 50000\n",
            "Age (e.g., 30): 30\n",
            "Years of Work Experience: 2\n",
            "Married (yes or no): yes\n",
            "House Ownership (owned, rented, norent_noown): rented\n",
            "Car Ownership (yes or no): yes\n",
            "Profession (e.g., software engineer): engineer\n",
            "Years at Current Job: 2\n",
            "Years in Current House: 1\n",
            "\n",
            "📊 Prediction: ❌ High Risk\n"
          ]
        }
      ]
    }
  ]
}