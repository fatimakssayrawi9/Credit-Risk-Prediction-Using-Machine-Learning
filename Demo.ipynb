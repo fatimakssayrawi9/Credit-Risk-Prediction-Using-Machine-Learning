{
  "nbformat": 4,
  "nbformat_minor": 0,
  "metadata": {
    "colab": {
      "provenance": []
    },
    "kernelspec": {
      "name": "python3",
      "display_name": "Python 3"
    },
    "language_info": {
      "name": "python"
    }
  },
  "cells": [
    {
      "cell_type": "markdown",
      "source": [
        "## 📂 Project Setup Instructions\n",
        "\n",
        "To run this notebook correctly, please make sure to **upload the following three files** before execution:\n",
        "\n",
        "1. **random_forest_model.pkl**  \n",
        "   → This file contains the trained Random Forest model.  \n",
        "   🔗 Download it from your Google Drive: [Click Here](https://drive.google.com/file/d/1RBZA9K3C8uHZ269RJe1aciK2PU8bs29c/view?usp=drive_link)\n",
        "\n",
        "2. **scaler.pkl**  \n",
        "   → This is the fitted `StandardScaler` used during training.  \n",
        "   📁 This file is located in the project repository.\n",
        "\n",
        "3. **model_columns.pkl**  \n",
        "   → This contains the list of encoded feature column names used by the model.  \n",
        "   📁 This file is also located in the project repository.\n",
        "\n",
        "> ⚠️ Make sure to upload all three files before running the prediction or deployment cells.\n"
      ],
      "metadata": {
        "id": "xcgyzzNhW5Zn"
      }
    },
    {
      "cell_type": "markdown",
      "source": [
        "# Model Deployment"
      ],
      "metadata": {
        "id": "gFHs7hpNVstz"
      }
    },
    {
      "cell_type": "code",
      "execution_count": 11,
      "metadata": {
        "id": "Mm4Vi9kMVTxc"
      },
      "outputs": [],
      "source": [
        "import joblib\n",
        "import pandas as pd\n",
        "import joblib\n",
        "\n",
        "# 🔄 Load the best-performing model (Random Forest)\n",
        "rf_model = joblib.load(\"random_forest_model.pkl\")\n",
        "\n",
        "# 🔄 Load the fitted StandardScaler\n",
        "scaler = joblib.load(\"scaler.pkl\")\n",
        "\n",
        "# 🔄 Load the encoded feature columns used during training\n",
        "model_columns = joblib.load(\"model_columns.pkl\")\n"
      ]
    },
    {
      "cell_type": "markdown",
      "source": [
        "## 🧠 predict_credit_risk() – Deployment-Ready Function"
      ],
      "metadata": {
        "id": "cvvYGDsscLZ9"
      }
    },
    {
      "cell_type": "code",
      "source": [
        "def predict_credit_risk(input_data: dict) -> int:\n",
        "    \"\"\"\n",
        "    Predict credit risk using the saved Random Forest model.\n",
        "\n",
        "    Args:\n",
        "        input_data (dict): Example:\n",
        "            {\n",
        "                'income': 45000,\n",
        "                'age': 30,\n",
        "                'experience': 5,\n",
        "                'married': 'yes',\n",
        "                'house_ownership': 'rented',\n",
        "                'car_ownership': 'no',\n",
        "                'profession': 'engineer',\n",
        "                'city': 'City_45',\n",
        "                'state': 'State_3',\n",
        "                'current_job_years': 2,\n",
        "                'current_house_years': 4\n",
        "            }\n",
        "\n",
        "    Returns:\n",
        "        int: 0 for low risk, 1 for high risk\n",
        "    \"\"\"\n",
        "\n",
        "    # 🔁 Load saved model components\n",
        "    model = joblib.load(\"random_forest_model.pkl\")\n",
        "    scaler = joblib.load(\"scaler.pkl\")\n",
        "    model_columns = joblib.load(\"model_columns.pkl\")\n",
        "\n",
        "    # 📦 Convert input dictionary to DataFrame\n",
        "    df = pd.DataFrame([input_data])\n",
        "\n",
        "    # 🔠 One-hot encode and align with training columns\n",
        "    df_encoded = pd.get_dummies(df)\n",
        "    df_encoded = df_encoded.reindex(columns=model_columns, fill_value=0)\n",
        "\n",
        "    # 📏 Scale features\n",
        "    df_scaled = scaler.transform(df_encoded)\n",
        "\n",
        "    # 🔍 Make prediction\n",
        "    prediction = model.predict(df_scaled)\n",
        "\n",
        "    return int(prediction[0])\n"
      ],
      "metadata": {
        "id": "fSEE37hPhmwO"
      },
      "execution_count": 7,
      "outputs": []
    },
    {
      "cell_type": "markdown",
      "source": [
        "### 🧪 Example: Predict Credit Risk for a New Borrower"
      ],
      "metadata": {
        "id": "9vdgCcUGcajI"
      }
    },
    {
      "cell_type": "code",
      "source": [
        "# 📋 Sample input: borrower's profile\n",
        "user_input = {\n",
        "    'income': 50000,\n",
        "    'age': 28,\n",
        "    'experience': 4,\n",
        "    'married': 'yes',\n",
        "    'house_ownership': 'rented',\n",
        "    'car_ownership': 'yes',\n",
        "    'profession': 'civil engineer',\n",
        "    'city': 'City_10',\n",
        "    'state': 'State_1',\n",
        "    'current_job_years': 3,\n",
        "    'current_house_years': 2\n",
        "}\n",
        "\n",
        "# 🔍 Get the prediction\n",
        "result = predict_credit_risk(user_input)\n",
        "\n",
        "# 🧾 Show result\n",
        "print(\"🔍 Prediction:\", \"❌ High Risk\" if result == 1 else \"✅ Low Risk\")\n"
      ],
      "metadata": {
        "colab": {
          "base_uri": "https://localhost:8080/"
        },
        "id": "e66aY77jhoUK",
        "outputId": "f566e85c-7191-4ebb-9e71-f3a592a9e4a6"
      },
      "execution_count": 8,
      "outputs": [
        {
          "output_type": "stream",
          "name": "stdout",
          "text": [
            "🔍 Prediction: ❌ High Risk\n"
          ]
        }
      ]
    },
    {
      "cell_type": "markdown",
      "source": [
        "## 🧾 get_user_input() – Interactive CLI Input for Deployment Testing"
      ],
      "metadata": {
        "id": "O4kKSqwdcjQB"
      }
    },
    {
      "cell_type": "code",
      "source": [
        "def get_user_input():\n",
        "    \"\"\"\n",
        "    Collects borrower information from the user via command-line input.\n",
        "\n",
        "    Returns:\n",
        "        dict: A dictionary with borrower features for risk prediction.\n",
        "    \"\"\"\n",
        "    print(\"🔍 Please enter borrower information for credit risk prediction:\\n\")\n",
        "\n",
        "    input_data = {\n",
        "        'income': float(input(\"Income (e.g., 50000): \")),\n",
        "        'age': int(input(\"Age (e.g., 30): \")),\n",
        "        'experience': int(input(\"Years of Work Experience: \")),\n",
        "        'married': input(\"Married (yes or no): \").strip().lower(),\n",
        "        'house_ownership': input(\"House Ownership (owned, rented, norent_noown): \").strip().lower(),\n",
        "        'car_ownership': input(\"Car Ownership (yes or no): \").strip().lower(),\n",
        "        'profession': input(\"Profession (e.g., software engineer): \").strip().lower(),\n",
        "        'city': input(\"City (e.g., City_45): \").strip(),\n",
        "        'state': input(\"State (e.g., State_3): \").strip(),\n",
        "        'current_job_years': int(input(\"Years at Current Job: \")),\n",
        "        'current_house_years': int(input(\"Years in Current House: \"))\n",
        "    }\n",
        "\n",
        "    return input_data\n"
      ],
      "metadata": {
        "id": "YFc6e-pLkQWd"
      },
      "execution_count": 9,
      "outputs": []
    },
    {
      "cell_type": "markdown",
      "source": [
        "### 🧪 Run the Full Prediction Flow with Live User Input"
      ],
      "metadata": {
        "id": "Z8n4vp2IdJ6J"
      }
    },
    {
      "cell_type": "code",
      "source": [
        "# 🔽 Get user input from the terminal\n",
        "user_input = get_user_input()\n",
        "\n",
        "# 🔮 Predict\n",
        "result = predict_credit_risk(user_input)\n",
        "\n",
        "# ✅ Display prediction\n",
        "print(\"\\n📊 Prediction:\", \"❌ High Risk\" if result == 1 else \"✅ Low Risk\")\n"
      ],
      "metadata": {
        "colab": {
          "base_uri": "https://localhost:8080/"
        },
        "id": "m2bewSqbkVNs",
        "outputId": "fd9235ee-8823-4913-8d24-f4b32b19ce7a"
      },
      "execution_count": 10,
      "outputs": [
        {
          "output_type": "stream",
          "name": "stdout",
          "text": [
            "🔍 Please enter borrower information for credit risk prediction:\n",
            "\n",
            "Income (e.g., 50000): 5000\n",
            "Age (e.g., 30): 25\n",
            "Years of Work Experience: 5\n",
            "Married (yes or no): yes\n",
            "House Ownership (owned, rented, norent_noown): rented\n",
            "Car Ownership (yes or no): yes\n",
            "Profession (e.g., software engineer): civil engineer\n",
            "City (e.g., City_45): City_45\n",
            "State (e.g., State_3): State_3\n",
            "Years at Current Job: 5\n",
            "Years in Current House: 2\n",
            "\n",
            "📊 Prediction: ❌ High Risk\n"
          ]
        }
      ]
    }
  ]
}